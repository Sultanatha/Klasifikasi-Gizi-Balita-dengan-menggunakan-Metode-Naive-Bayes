{
 "cells": [
  {
   "cell_type": "code",
   "execution_count": 57,
   "metadata": {},
   "outputs": [],
   "source": [
    "#Library yang digunakan\n",
    "import pandas as pd\n",
    "import numpy as np"
   ]
  },
  {
   "cell_type": "code",
   "execution_count": 58,
   "metadata": {},
   "outputs": [
    {
     "data": {
      "text/html": [
       "<div>\n",
       "<style scoped>\n",
       "    .dataframe tbody tr th:only-of-type {\n",
       "        vertical-align: middle;\n",
       "    }\n",
       "\n",
       "    .dataframe tbody tr th {\n",
       "        vertical-align: top;\n",
       "    }\n",
       "\n",
       "    .dataframe thead th {\n",
       "        text-align: right;\n",
       "    }\n",
       "</style>\n",
       "<table border=\"1\" class=\"dataframe\">\n",
       "  <thead>\n",
       "    <tr style=\"text-align: right;\">\n",
       "      <th></th>\n",
       "      <th>UMUR</th>\n",
       "      <th>BB</th>\n",
       "      <th>TB</th>\n",
       "      <th>JK</th>\n",
       "      <th>KETERANGAN</th>\n",
       "    </tr>\n",
       "  </thead>\n",
       "  <tbody>\n",
       "    <tr>\n",
       "      <th>0</th>\n",
       "      <td>1</td>\n",
       "      <td>1.9</td>\n",
       "      <td>46.0</td>\n",
       "      <td>L</td>\n",
       "      <td>Gizi Buruk</td>\n",
       "    </tr>\n",
       "    <tr>\n",
       "      <th>1</th>\n",
       "      <td>3</td>\n",
       "      <td>2.0</td>\n",
       "      <td>48.0</td>\n",
       "      <td>L</td>\n",
       "      <td>Gizi Baik</td>\n",
       "    </tr>\n",
       "    <tr>\n",
       "      <th>2</th>\n",
       "      <td>1</td>\n",
       "      <td>2.8</td>\n",
       "      <td>48.0</td>\n",
       "      <td>P</td>\n",
       "      <td>Gizi Baik</td>\n",
       "    </tr>\n",
       "    <tr>\n",
       "      <th>3</th>\n",
       "      <td>1</td>\n",
       "      <td>2.8</td>\n",
       "      <td>48.0</td>\n",
       "      <td>P</td>\n",
       "      <td>Gizi Baik</td>\n",
       "    </tr>\n",
       "    <tr>\n",
       "      <th>4</th>\n",
       "      <td>1</td>\n",
       "      <td>2.8</td>\n",
       "      <td>48.0</td>\n",
       "      <td>L</td>\n",
       "      <td>Gizi Baik</td>\n",
       "    </tr>\n",
       "  </tbody>\n",
       "</table>\n",
       "</div>"
      ],
      "text/plain": [
       "   UMUR   BB    TB JK  KETERANGAN\n",
       "0     1  1.9  46.0  L  Gizi Buruk\n",
       "1     3  2.0  48.0  L   Gizi Baik\n",
       "2     1  2.8  48.0  P   Gizi Baik\n",
       "3     1  2.8  48.0  P   Gizi Baik\n",
       "4     1  2.8  48.0  L   Gizi Baik"
      ]
     },
     "execution_count": 58,
     "metadata": {},
     "output_type": "execute_result"
    }
   ],
   "source": [
    "#import data dgn format excel\n",
    "dataset = pd.read_csv('data_training_new.csv')\n",
    "#melihat data\n",
    "dataset.head()"
   ]
  },
  {
   "cell_type": "code",
   "execution_count": 59,
   "metadata": {},
   "outputs": [
    {
     "data": {
      "text/html": [
       "<div>\n",
       "<style scoped>\n",
       "    .dataframe tbody tr th:only-of-type {\n",
       "        vertical-align: middle;\n",
       "    }\n",
       "\n",
       "    .dataframe tbody tr th {\n",
       "        vertical-align: top;\n",
       "    }\n",
       "\n",
       "    .dataframe thead th {\n",
       "        text-align: right;\n",
       "    }\n",
       "</style>\n",
       "<table border=\"1\" class=\"dataframe\">\n",
       "  <thead>\n",
       "    <tr style=\"text-align: right;\">\n",
       "      <th></th>\n",
       "      <th>UMUR</th>\n",
       "      <th>BB</th>\n",
       "      <th>TB</th>\n",
       "      <th>JK</th>\n",
       "      <th>KETERANGAN</th>\n",
       "    </tr>\n",
       "  </thead>\n",
       "  <tbody>\n",
       "    <tr>\n",
       "      <th>0</th>\n",
       "      <td>1</td>\n",
       "      <td>1.9</td>\n",
       "      <td>46.0</td>\n",
       "      <td>0</td>\n",
       "      <td>0</td>\n",
       "    </tr>\n",
       "    <tr>\n",
       "      <th>1</th>\n",
       "      <td>3</td>\n",
       "      <td>2.0</td>\n",
       "      <td>48.0</td>\n",
       "      <td>0</td>\n",
       "      <td>1</td>\n",
       "    </tr>\n",
       "    <tr>\n",
       "      <th>2</th>\n",
       "      <td>1</td>\n",
       "      <td>2.8</td>\n",
       "      <td>48.0</td>\n",
       "      <td>1</td>\n",
       "      <td>1</td>\n",
       "    </tr>\n",
       "    <tr>\n",
       "      <th>3</th>\n",
       "      <td>1</td>\n",
       "      <td>2.8</td>\n",
       "      <td>48.0</td>\n",
       "      <td>1</td>\n",
       "      <td>1</td>\n",
       "    </tr>\n",
       "    <tr>\n",
       "      <th>4</th>\n",
       "      <td>1</td>\n",
       "      <td>2.8</td>\n",
       "      <td>48.0</td>\n",
       "      <td>0</td>\n",
       "      <td>1</td>\n",
       "    </tr>\n",
       "  </tbody>\n",
       "</table>\n",
       "</div>"
      ],
      "text/plain": [
       "   UMUR   BB    TB  JK  KETERANGAN\n",
       "0     1  1.9  46.0   0           0\n",
       "1     3  2.0  48.0   0           1\n",
       "2     1  2.8  48.0   1           1\n",
       "3     1  2.8  48.0   1           1\n",
       "4     1  2.8  48.0   0           1"
      ]
     },
     "execution_count": 59,
     "metadata": {},
     "output_type": "execute_result"
    }
   ],
   "source": [
    "#transformasi data\n",
    "dataset.loc[dataset['KETERANGAN'] == 'Gizi Buruk', 'KETERANGAN'] = 0\n",
    "dataset.loc[dataset['KETERANGAN'] == 'Gizi Baik', 'KETERANGAN'] = 1\n",
    "\n",
    "dataset.loc[dataset['JK'] == 'L', 'JK'] = 0\n",
    "dataset.loc[dataset['JK'] == 'P', 'JK'] = 1\n",
    "\n",
    "dataset = dataset.apply(pd.to_numeric, errors='coerce')\n",
    "dataset.head()"
   ]
  },
  {
   "cell_type": "code",
   "execution_count": 60,
   "metadata": {},
   "outputs": [],
   "source": [
    "#data yang akan dimasukan ke Fitur Scaling\n",
    "x = dataset.iloc[:, [1,2]].values\n",
    "y = dataset.iloc[:, 3].values"
   ]
  },
  {
   "cell_type": "code",
   "execution_count": 61,
   "metadata": {},
   "outputs": [
    {
     "data": {
      "text/html": [
       "<div>\n",
       "<style scoped>\n",
       "    .dataframe tbody tr th:only-of-type {\n",
       "        vertical-align: middle;\n",
       "    }\n",
       "\n",
       "    .dataframe tbody tr th {\n",
       "        vertical-align: top;\n",
       "    }\n",
       "\n",
       "    .dataframe thead th {\n",
       "        text-align: right;\n",
       "    }\n",
       "</style>\n",
       "<table border=\"1\" class=\"dataframe\">\n",
       "  <thead>\n",
       "    <tr style=\"text-align: right;\">\n",
       "      <th></th>\n",
       "      <th>UMUR</th>\n",
       "      <th>BB</th>\n",
       "      <th>TB</th>\n",
       "      <th>JK</th>\n",
       "    </tr>\n",
       "  </thead>\n",
       "  <tbody>\n",
       "    <tr>\n",
       "      <th>0</th>\n",
       "      <td>1</td>\n",
       "      <td>1.9</td>\n",
       "      <td>46.0</td>\n",
       "      <td>0</td>\n",
       "    </tr>\n",
       "    <tr>\n",
       "      <th>1</th>\n",
       "      <td>3</td>\n",
       "      <td>2.0</td>\n",
       "      <td>48.0</td>\n",
       "      <td>0</td>\n",
       "    </tr>\n",
       "    <tr>\n",
       "      <th>2</th>\n",
       "      <td>1</td>\n",
       "      <td>2.8</td>\n",
       "      <td>48.0</td>\n",
       "      <td>1</td>\n",
       "    </tr>\n",
       "    <tr>\n",
       "      <th>3</th>\n",
       "      <td>1</td>\n",
       "      <td>2.8</td>\n",
       "      <td>48.0</td>\n",
       "      <td>1</td>\n",
       "    </tr>\n",
       "    <tr>\n",
       "      <th>4</th>\n",
       "      <td>1</td>\n",
       "      <td>2.8</td>\n",
       "      <td>48.0</td>\n",
       "      <td>0</td>\n",
       "    </tr>\n",
       "  </tbody>\n",
       "</table>\n",
       "</div>"
      ],
      "text/plain": [
       "   UMUR   BB    TB  JK\n",
       "0     1  1.9  46.0   0\n",
       "1     3  2.0  48.0   0\n",
       "2     1  2.8  48.0   1\n",
       "3     1  2.8  48.0   1\n",
       "4     1  2.8  48.0   0"
      ]
     },
     "execution_count": 61,
     "metadata": {},
     "output_type": "execute_result"
    }
   ],
   "source": [
    "#Variabel Independen\n",
    "x = dataset.drop([\"KETERANGAN\"], axis = 1)\n",
    "x.head()"
   ]
  },
  {
   "cell_type": "code",
   "execution_count": 62,
   "metadata": {},
   "outputs": [
    {
     "data": {
      "text/plain": [
       "0    0\n",
       "1    1\n",
       "2    1\n",
       "3    1\n",
       "4    1\n",
       "Name: KETERANGAN, dtype: int64"
      ]
     },
     "execution_count": 62,
     "metadata": {},
     "output_type": "execute_result"
    }
   ],
   "source": [
    "#Variabel Dependen\n",
    "y = dataset[\"KETERANGAN\"]\n",
    "y.head()"
   ]
  },
  {
   "cell_type": "code",
   "execution_count": 66,
   "metadata": {},
   "outputs": [
    {
     "name": "stdout",
     "output_type": "stream",
     "text": [
      "Training dataset shape: (500, 4) (500,)\n",
      "Testing dataset shape: (103, 4) (103,)\n"
     ]
    }
   ],
   "source": [
    "#Kelompokan data ke dalam training set dan test set\n",
    "from sklearn.model_selection import train_test_split\n",
    "x_train, x_test, y_train, y_test = train_test_split(x, y, test_size = 0.17, random_state =10)\n",
    "\n",
    "y_train = y_train.ravel()\n",
    "y_test = y_test.ravel()\n",
    "\n",
    "print('Training dataset shape:', x_train.shape, y_train.shape)\n",
    "print('Testing dataset shape:', x_test.shape, y_test.shape)\n",
    " "
   ]
  },
  {
   "cell_type": "code",
   "execution_count": 67,
   "metadata": {
    "pycharm": {
     "name": "#%%\n"
    }
   },
   "outputs": [
    {
     "name": "stdout",
     "output_type": "stream",
     "text": [
      "[[ 0.    0.72  0.98  0.  ]\n",
      " [ 0.    0.56  0.98 17.  ]\n",
      " [ 0.    0.87  1.31 17.  ]\n",
      " [ 0.    0.87  0.98 17.  ]\n",
      " [ 0.    0.87  0.98  0.  ]\n",
      " [ 0.    1.02  0.98  0.  ]\n",
      " [ 0.    0.87  1.31 17.  ]\n",
      " [ 0.    0.87  1.31  0.  ]\n",
      " [ 8.5  17.   15.37 17.  ]\n",
      " [ 0.    0.    0.   17.  ]\n",
      " [ 0.    0.87  0.98 17.  ]\n",
      " [ 0.    0.87  1.31 17.  ]\n",
      " [ 0.    1.02  0.78  0.  ]\n",
      " [ 0.    0.87  1.31  0.  ]\n",
      " [ 0.    0.87  0.98 17.  ]\n",
      " [ 0.    0.87  0.98  0.  ]\n",
      " [ 4.25  5.43  9.81  0.  ]\n",
      " [ 0.    0.72  0.98  0.  ]\n",
      " [ 0.    1.02  0.92 17.  ]\n",
      " [ 0.    1.02  1.44  0.  ]\n",
      " [ 0.    6.04  8.17 17.  ]\n",
      " [ 0.    0.87  0.98  0.  ]\n",
      " [ 0.    0.87  0.98  0.  ]\n",
      " [ 0.    0.87  1.96  0.  ]\n",
      " [ 0.    0.87  1.31  0.  ]\n",
      " [ 0.    1.02  0.98 17.  ]\n",
      " [ 0.    0.72  0.65  0.  ]\n",
      " [ 0.    1.02  0.65 17.  ]\n",
      " [ 0.    0.72  0.98  0.  ]\n",
      " [ 0.    0.87  0.33 17.  ]\n",
      " [ 4.25  9.54 13.08 17.  ]\n",
      " [ 0.    0.26  1.31  0.  ]\n",
      " [ 0.    0.72  0.98 17.  ]\n",
      " [ 0.    0.72  0.98  0.  ]\n",
      " [ 0.    0.87  1.31  0.  ]\n",
      " [ 0.    0.72  0.33  0.  ]\n",
      " [ 0.    0.87  1.31  0.  ]\n",
      " [ 0.    0.56  0.98 17.  ]\n",
      " [ 0.    1.02  1.31 17.  ]\n",
      " [ 0.    0.87  1.63  0.  ]\n",
      " [ 0.    0.87  2.94  0.  ]\n",
      " [ 0.    0.87  1.31  0.  ]\n",
      " [ 0.    0.87  0.98 17.  ]\n",
      " [ 0.    0.87  1.31  0.  ]\n",
      " [ 0.   10.76 16.02 17.  ]\n",
      " [ 0.    0.87  0.92  0.  ]\n",
      " [ 0.    0.87  1.31 17.  ]\n",
      " [ 0.    0.56  0.98 17.  ]\n",
      " [ 0.    1.02  0.98 17.  ]\n",
      " [ 0.    0.87  1.31 17.  ]\n",
      " [ 0.    1.02  0.65  0.  ]\n",
      " [ 0.    0.87  0.98 17.  ]\n",
      " [ 0.    0.56  0.65 17.  ]\n",
      " [ 0.    1.02  0.98 17.  ]\n",
      " [ 8.5  10.   13.73  0.  ]\n",
      " [ 0.    0.72  0.98 17.  ]\n",
      " [ 0.    0.87  1.31 17.  ]\n",
      " [ 0.    4.22  4.74  0.  ]\n",
      " [ 0.    0.87  1.31  0.  ]\n",
      " [ 0.    0.87  3.6  17.  ]\n",
      " [ 0.    0.87  1.31  0.  ]\n",
      " [ 0.    0.56  0.65  0.  ]\n",
      " [ 0.    0.87  0.98 17.  ]\n",
      " [ 0.    0.87  0.98  0.  ]\n",
      " [ 0.    0.87  0.98  0.  ]\n",
      " [ 0.    0.87  0.98  0.  ]\n",
      " [ 0.    0.87  1.31  0.  ]\n",
      " [12.75 11.22 14.71 17.  ]\n",
      " [ 0.    0.87  0.98 17.  ]\n",
      " [ 0.    0.87  1.96  0.  ]\n",
      " [ 0.    0.87  0.    0.  ]\n",
      " [ 0.    0.72  0.98  0.  ]\n",
      " [12.75 17.   16.35 17.  ]\n",
      " [ 0.    0.87  1.31  0.  ]\n",
      " [ 0.    0.87  0.98 17.  ]\n",
      " [ 0.    1.02  0.92 17.  ]\n",
      " [ 0.    1.02  0.98  0.  ]\n",
      " [ 0.    0.72  0.33 17.  ]\n",
      " [ 0.    1.02  0.95 17.  ]\n",
      " [ 0.    1.02  0.92 17.  ]\n",
      " [ 0.    0.72  0.98  0.  ]\n",
      " [ 0.    0.87  0.98  0.  ]\n",
      " [ 0.    0.87  1.31  0.  ]\n",
      " [17.   13.8  17.    0.  ]\n",
      " [ 0.    0.87  1.31  0.  ]\n",
      " [ 0.    1.02  1.31 17.  ]\n",
      " [ 0.    0.72  0.92  0.  ]\n",
      " [ 0.    0.87  1.31 17.  ]\n",
      " [ 0.    0.56  0.65  0.  ]\n",
      " [ 0.    0.72  0.98  0.  ]\n",
      " [ 0.    0.72  0.98 17.  ]\n",
      " [ 0.    0.87  1.31  0.  ]\n",
      " [ 0.    0.72  0.98 17.  ]\n",
      " [ 0.    0.87  0.98  0.  ]\n",
      " [ 0.    0.87  1.31 17.  ]\n",
      " [ 0.    0.72  0.98  0.  ]\n",
      " [ 0.    1.02  0.98 17.  ]\n",
      " [ 8.5  12.28 16.28  0.  ]\n",
      " [ 0.    0.87  1.31 17.  ]\n",
      " [ 0.    0.87  0.65  0.  ]\n",
      " [ 0.    0.72  0.98  0.  ]\n",
      " [ 0.    0.87  1.21  0.  ]\n",
      " [ 0.    0.72  0.98 17.  ]]\n"
     ]
    }
   ],
   "source": [
    "#fitur scalling\n",
    "from sklearn.preprocessing import MinMaxScaler\n",
    "scaler = MinMaxScaler(feature_range=(0,17))\n",
    "rescaledx = scaler.fit_transform(x_test)\n",
    "np.set_printoptions(precision=2)\n",
    "print(rescaledx[0:103,:])"
   ]
  },
  {
   "cell_type": "code",
   "execution_count": 68,
   "metadata": {},
   "outputs": [
    {
     "data": {
      "text/plain": [
       "GaussianNB()"
      ]
     },
     "execution_count": 68,
     "metadata": {},
     "output_type": "execute_result"
    }
   ],
   "source": [
    "#Membuat model naive bayes terhadap training test\n",
    "from sklearn.naive_bayes import GaussianNB\n",
    "classifier = GaussianNB()\n",
    "classifier.fit(x_test, y_test)"
   ]
  },
  {
   "cell_type": "code",
   "execution_count": 69,
   "metadata": {},
   "outputs": [
    {
     "name": "stdout",
     "output_type": "stream",
     "text": [
      "Prediksi Naie Bayes :  [1 1 1 1 1 1 1 1 0 1 1 1 1 1 1 1 0 1 1 1 0 1 1 1 1 1 1 1 1 1 0 1 1 1 1 1 1\n",
      " 1 1 1 1 1 1 1 0 1 1 1 1 1 1 1 1 1 0 1 1 1 1 1 1 1 1 1 1 1 1 0 1 1 1 1 0 1\n",
      " 1 1 1 1 1 1 1 1 1 0 1 1 1 1 1 1 1 1 1 1 1 1 1 0 1 1 1 1 1]\n"
     ]
    }
   ],
   "source": [
    "#prediksi hasil test set\n",
    "y_pred = classifier.predict(x_test)\n",
    "print(\"Prediksi Naie Bayes : \", y_pred)"
   ]
  },
  {
   "cell_type": "code",
   "execution_count": 70,
   "metadata": {},
   "outputs": [
    {
     "data": {
      "text/plain": [
       "0.9611650485436893"
      ]
     },
     "execution_count": 70,
     "metadata": {},
     "output_type": "execute_result"
    }
   ],
   "source": [
    "#menghitung akurasi\n",
    "from sklearn.metrics import accuracy_score\n",
    "accuracy_score(y_test, y_pred)"
   ]
  },
  {
   "cell_type": "code",
   "execution_count": 71,
   "metadata": {},
   "outputs": [],
   "source": [
    "from sklearn.ensemble import RandomForestClassifier\n",
    "from sklearn.model_selection import train_test_split\n",
    "from sklearn.metrics import accuracy_score as acc\n",
    "from mlxtend.feature_selection import SequentialFeatureSelector as sfs"
   ]
  },
  {
   "cell_type": "code",
   "execution_count": 72,
   "metadata": {},
   "outputs": [
    {
     "name": "stderr",
     "output_type": "stream",
     "text": [
      "[Parallel(n_jobs=1)]: Using backend SequentialBackend with 1 concurrent workers.\n",
      "[Parallel(n_jobs=1)]: Done   1 out of   1 | elapsed:    0.7s remaining:    0.0s\n",
      "[Parallel(n_jobs=1)]: Done   4 out of   4 | elapsed:    3.1s finished\n",
      "\n",
      "[2021-06-15 17:39:07] Features: 1/4 -- score: 0.984[Parallel(n_jobs=1)]: Using backend SequentialBackend with 1 concurrent workers.\n",
      "[Parallel(n_jobs=1)]: Done   1 out of   1 | elapsed:    0.7s remaining:    0.0s\n",
      "[Parallel(n_jobs=1)]: Done   3 out of   3 | elapsed:    2.5s finished\n",
      "\n",
      "[2021-06-15 17:39:09] Features: 2/4 -- score: 0.984[Parallel(n_jobs=1)]: Using backend SequentialBackend with 1 concurrent workers.\n",
      "[Parallel(n_jobs=1)]: Done   1 out of   1 | elapsed:    0.8s remaining:    0.0s\n",
      "[Parallel(n_jobs=1)]: Done   2 out of   2 | elapsed:    1.7s finished\n",
      "\n",
      "[2021-06-15 17:39:11] Features: 3/4 -- score: 0.982[Parallel(n_jobs=1)]: Using backend SequentialBackend with 1 concurrent workers.\n",
      "[Parallel(n_jobs=1)]: Done   1 out of   1 | elapsed:    0.8s remaining:    0.0s\n",
      "[Parallel(n_jobs=1)]: Done   1 out of   1 | elapsed:    0.8s finished\n",
      "\n",
      "[2021-06-15 17:39:12] Features: 4/4 -- score: 0.984"
     ]
    }
   ],
   "source": [
    "# Build RF classifier to use in feature selection\n",
    "clf = RandomForestClassifier(n_estimators=100, n_jobs=-1)\n",
    "\n",
    "# Build step forward feature selection\n",
    "sfs1 = sfs(clf,\n",
    "           k_features=4,\n",
    "           forward=True,\n",
    "           floating=False,\n",
    "           verbose=2,\n",
    "           scoring='accuracy',\n",
    "           cv=4)\n",
    "\n",
    "# Perform SFFS\n",
    "sfs1 = sfs1.fit(x_train, y_train)"
   ]
  },
  {
   "cell_type": "code",
   "execution_count": 73,
   "metadata": {},
   "outputs": [
    {
     "name": "stdout",
     "output_type": "stream",
     "text": [
      "[0, 1, 2, 3]\n"
     ]
    }
   ],
   "source": [
    "# Which features?\n",
    "feat_cols = list(sfs1.k_feature_idx_)\n",
    "print(feat_cols)"
   ]
  },
  {
   "cell_type": "code",
   "execution_count": 74,
   "metadata": {},
   "outputs": [
    {
     "name": "stdout",
     "output_type": "stream",
     "text": [
      "Testing accuracy on all features: 0.9960\n"
     ]
    }
   ],
   "source": [
    "# Build full model on ALL features, for comparison\n",
    "clf = RandomForestClassifier(n_estimators=500, random_state=10, max_depth=4)\n",
    "clf.fit(x_train, y_train)\n",
    "\n",
    "y_pred = clf.predict(x_train)\n",
    "print('Testing accuracy on all features: %.4f' % acc(y_train, y_pred))"
   ]
  },
  {
   "cell_type": "code",
   "execution_count": null,
   "metadata": {},
   "outputs": [],
   "source": []
  },
  {
   "cell_type": "code",
   "execution_count": null,
   "metadata": {},
   "outputs": [],
   "source": []
  },
  {
   "cell_type": "code",
   "execution_count": null,
   "metadata": {},
   "outputs": [],
   "source": []
  },
  {
   "cell_type": "code",
   "execution_count": null,
   "metadata": {},
   "outputs": [],
   "source": []
  }
 ],
 "metadata": {
  "kernelspec": {
   "display_name": "Python 3",
   "language": "python",
   "name": "python3"
  },
  "language_info": {
   "codemirror_mode": {
    "name": "ipython",
    "version": 3
   },
   "file_extension": ".py",
   "mimetype": "text/x-python",
   "name": "python",
   "nbconvert_exporter": "python",
   "pygments_lexer": "ipython3",
   "version": "3.8.2"
  }
 },
 "nbformat": 4,
 "nbformat_minor": 4
}
