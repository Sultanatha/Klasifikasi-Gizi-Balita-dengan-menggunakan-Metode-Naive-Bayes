{
 "cells": [
  {
   "cell_type": "code",
   "execution_count": 88,
   "metadata": {},
   "outputs": [],
   "source": [
    "#Library yang digunakan\n",
    "import pandas as pd\n",
    "import numpy as np"
   ]
  },
  {
   "cell_type": "code",
   "execution_count": 89,
   "metadata": {},
   "outputs": [
    {
     "data": {
      "text/html": [
       "<div>\n",
       "<style scoped>\n",
       "    .dataframe tbody tr th:only-of-type {\n",
       "        vertical-align: middle;\n",
       "    }\n",
       "\n",
       "    .dataframe tbody tr th {\n",
       "        vertical-align: top;\n",
       "    }\n",
       "\n",
       "    .dataframe thead th {\n",
       "        text-align: right;\n",
       "    }\n",
       "</style>\n",
       "<table border=\"1\" class=\"dataframe\">\n",
       "  <thead>\n",
       "    <tr style=\"text-align: right;\">\n",
       "      <th></th>\n",
       "      <th>No</th>\n",
       "      <th>Umur</th>\n",
       "      <th>JK</th>\n",
       "      <th>Sex</th>\n",
       "      <th>RK</th>\n",
       "      <th>BB</th>\n",
       "      <th>Hipertensi / sistol</th>\n",
       "      <th>LDM</th>\n",
       "      <th>TKT</th>\n",
       "      <th>GDS</th>\n",
       "      <th>HBA1C</th>\n",
       "      <th>EKG</th>\n",
       "      <th>KET</th>\n",
       "    </tr>\n",
       "  </thead>\n",
       "  <tbody>\n",
       "    <tr>\n",
       "      <th>0</th>\n",
       "      <td>1.0</td>\n",
       "      <td>46</td>\n",
       "      <td>P</td>\n",
       "      <td>Y</td>\n",
       "      <td>T</td>\n",
       "      <td>50</td>\n",
       "      <td>150</td>\n",
       "      <td>2011</td>\n",
       "      <td>110.0</td>\n",
       "      <td>444</td>\n",
       "      <td>6.8</td>\n",
       "      <td>Y</td>\n",
       "      <td>+</td>\n",
       "    </tr>\n",
       "    <tr>\n",
       "      <th>1</th>\n",
       "      <td>2.0</td>\n",
       "      <td>63</td>\n",
       "      <td>P</td>\n",
       "      <td>Y</td>\n",
       "      <td>Y</td>\n",
       "      <td>65</td>\n",
       "      <td>140</td>\n",
       "      <td>2019</td>\n",
       "      <td>130.0</td>\n",
       "      <td>202</td>\n",
       "      <td>7.7</td>\n",
       "      <td>Y</td>\n",
       "      <td>+</td>\n",
       "    </tr>\n",
       "    <tr>\n",
       "      <th>2</th>\n",
       "      <td>3.0</td>\n",
       "      <td>72</td>\n",
       "      <td>P</td>\n",
       "      <td>Y</td>\n",
       "      <td>T</td>\n",
       "      <td>60</td>\n",
       "      <td>174</td>\n",
       "      <td>2018</td>\n",
       "      <td>185.0</td>\n",
       "      <td>116</td>\n",
       "      <td>5.7</td>\n",
       "      <td>Y</td>\n",
       "      <td>+</td>\n",
       "    </tr>\n",
       "    <tr>\n",
       "      <th>3</th>\n",
       "      <td>4.0</td>\n",
       "      <td>64</td>\n",
       "      <td>P</td>\n",
       "      <td>Y</td>\n",
       "      <td>T</td>\n",
       "      <td>52</td>\n",
       "      <td>120</td>\n",
       "      <td>2018</td>\n",
       "      <td>170.0</td>\n",
       "      <td>396</td>\n",
       "      <td>8.2</td>\n",
       "      <td>Y</td>\n",
       "      <td>+</td>\n",
       "    </tr>\n",
       "    <tr>\n",
       "      <th>4</th>\n",
       "      <td>5.0</td>\n",
       "      <td>54</td>\n",
       "      <td>P</td>\n",
       "      <td>Y</td>\n",
       "      <td>T</td>\n",
       "      <td>55</td>\n",
       "      <td>157</td>\n",
       "      <td>2018</td>\n",
       "      <td>167.0</td>\n",
       "      <td>384</td>\n",
       "      <td>11.8</td>\n",
       "      <td>Y</td>\n",
       "      <td>+</td>\n",
       "    </tr>\n",
       "  </tbody>\n",
       "</table>\n",
       "</div>"
      ],
      "text/plain": [
       "   No   Umur  JK Sex RK  BB  Hipertensi / sistol    LDM   TKT   GDS  HBA1C  \\\n",
       "0  1.0     46  P   Y  T  50                   150  2011  110.0  444    6.8   \n",
       "1  2.0     63  P   Y  Y  65                   140  2019  130.0  202    7.7   \n",
       "2  3.0     72  P   Y  T  60                   174  2018  185.0  116    5.7   \n",
       "3  4.0     64  P   Y  T  52                   120  2018  170.0  396    8.2   \n",
       "4  5.0     54  P   Y  T  55                   157  2018  167.0  384   11.8   \n",
       "\n",
       "  EKG KET  \n",
       "0   Y   +  \n",
       "1   Y   +  \n",
       "2   Y   +  \n",
       "3   Y   +  \n",
       "4   Y   +  "
      ]
     },
     "execution_count": 89,
     "metadata": {},
     "output_type": "execute_result"
    }
   ],
   "source": [
    "#import data dgn format excel\n",
    "dataset = pd.read_excel('datamentah.xlsx')\n",
    "#melihat data\n",
    "dataset.head()"
   ]
  },
  {
   "cell_type": "code",
   "execution_count": 90,
   "metadata": {},
   "outputs": [
    {
     "data": {
      "text/html": [
       "<div>\n",
       "<style scoped>\n",
       "    .dataframe tbody tr th:only-of-type {\n",
       "        vertical-align: middle;\n",
       "    }\n",
       "\n",
       "    .dataframe tbody tr th {\n",
       "        vertical-align: top;\n",
       "    }\n",
       "\n",
       "    .dataframe thead th {\n",
       "        text-align: right;\n",
       "    }\n",
       "</style>\n",
       "<table border=\"1\" class=\"dataframe\">\n",
       "  <thead>\n",
       "    <tr style=\"text-align: right;\">\n",
       "      <th></th>\n",
       "      <th>No</th>\n",
       "      <th>Umur</th>\n",
       "      <th>JK</th>\n",
       "      <th>Sex</th>\n",
       "      <th>RK</th>\n",
       "      <th>BB</th>\n",
       "      <th>Hipertensi / sistol</th>\n",
       "      <th>LDM</th>\n",
       "      <th>TKT</th>\n",
       "      <th>GDS</th>\n",
       "      <th>HBA1C</th>\n",
       "      <th>EKG</th>\n",
       "      <th>KET</th>\n",
       "    </tr>\n",
       "  </thead>\n",
       "  <tbody>\n",
       "    <tr>\n",
       "      <th>0</th>\n",
       "      <td>1.0</td>\n",
       "      <td>46</td>\n",
       "      <td>0</td>\n",
       "      <td>0</td>\n",
       "      <td>1</td>\n",
       "      <td>50</td>\n",
       "      <td>150</td>\n",
       "      <td>2011</td>\n",
       "      <td>110.0</td>\n",
       "      <td>444</td>\n",
       "      <td>6.8</td>\n",
       "      <td>0</td>\n",
       "      <td>1</td>\n",
       "    </tr>\n",
       "    <tr>\n",
       "      <th>1</th>\n",
       "      <td>2.0</td>\n",
       "      <td>63</td>\n",
       "      <td>0</td>\n",
       "      <td>0</td>\n",
       "      <td>0</td>\n",
       "      <td>65</td>\n",
       "      <td>140</td>\n",
       "      <td>2019</td>\n",
       "      <td>130.0</td>\n",
       "      <td>202</td>\n",
       "      <td>7.7</td>\n",
       "      <td>0</td>\n",
       "      <td>1</td>\n",
       "    </tr>\n",
       "    <tr>\n",
       "      <th>2</th>\n",
       "      <td>3.0</td>\n",
       "      <td>72</td>\n",
       "      <td>0</td>\n",
       "      <td>0</td>\n",
       "      <td>1</td>\n",
       "      <td>60</td>\n",
       "      <td>174</td>\n",
       "      <td>2018</td>\n",
       "      <td>185.0</td>\n",
       "      <td>116</td>\n",
       "      <td>5.7</td>\n",
       "      <td>0</td>\n",
       "      <td>1</td>\n",
       "    </tr>\n",
       "    <tr>\n",
       "      <th>3</th>\n",
       "      <td>4.0</td>\n",
       "      <td>64</td>\n",
       "      <td>0</td>\n",
       "      <td>0</td>\n",
       "      <td>1</td>\n",
       "      <td>52</td>\n",
       "      <td>120</td>\n",
       "      <td>2018</td>\n",
       "      <td>170.0</td>\n",
       "      <td>396</td>\n",
       "      <td>8.2</td>\n",
       "      <td>0</td>\n",
       "      <td>1</td>\n",
       "    </tr>\n",
       "    <tr>\n",
       "      <th>4</th>\n",
       "      <td>5.0</td>\n",
       "      <td>54</td>\n",
       "      <td>0</td>\n",
       "      <td>0</td>\n",
       "      <td>1</td>\n",
       "      <td>55</td>\n",
       "      <td>157</td>\n",
       "      <td>2018</td>\n",
       "      <td>167.0</td>\n",
       "      <td>384</td>\n",
       "      <td>11.8</td>\n",
       "      <td>0</td>\n",
       "      <td>1</td>\n",
       "    </tr>\n",
       "  </tbody>\n",
       "</table>\n",
       "</div>"
      ],
      "text/plain": [
       "   No   Umur   JK  Sex  RK  BB  Hipertensi / sistol    LDM   TKT   GDS  HBA1C  \\\n",
       "0  1.0     46   0    0   1  50                   150  2011  110.0  444    6.8   \n",
       "1  2.0     63   0    0   0  65                   140  2019  130.0  202    7.7   \n",
       "2  3.0     72   0    0   1  60                   174  2018  185.0  116    5.7   \n",
       "3  4.0     64   0    0   1  52                   120  2018  170.0  396    8.2   \n",
       "4  5.0     54   0    0   1  55                   157  2018  167.0  384   11.8   \n",
       "\n",
       "   EKG  KET  \n",
       "0    0    1  \n",
       "1    0    1  \n",
       "2    0    1  \n",
       "3    0    1  \n",
       "4    0    1  "
      ]
     },
     "execution_count": 90,
     "metadata": {},
     "output_type": "execute_result"
    }
   ],
   "source": [
    "#transformasi data\n",
    "dataset.loc[dataset['JK'] == 'P', 'JK'] = 0\n",
    "dataset.loc[dataset['JK'] == 'L', 'JK'] = 1\n",
    "\n",
    "dataset.loc[dataset['Sex'] == 'Y', 'Sex'] = 0\n",
    "dataset.loc[dataset['Sex'] == 'Y', 'Sex'] = 1\n",
    "\n",
    "dataset.loc[dataset['RK'] == 'Y', 'RK'] = 0\n",
    "dataset.loc[dataset['RK'] == 'T', 'RK'] = 1\n",
    "\n",
    "dataset.loc[dataset['EKG'] == 'Y', 'EKG'] = 0\n",
    "dataset.loc[dataset['EKG'] == 'T', 'EKG'] = 1\n",
    "\n",
    "dataset.loc[dataset['KET'] == '-', 'KET'] = 0\n",
    "dataset.loc[dataset['KET'] == '+', 'KET'] = 1\n",
    "\n",
    "dataset = dataset.apply(pd.to_numeric, errors='coerce')\n",
    "dataset.head()"
   ]
  },
  {
   "cell_type": "code",
   "execution_count": 91,
   "metadata": {},
   "outputs": [],
   "source": [
    "#data yang akan dimasukan ke Fitur Scaling\n",
    "X = dataset.iloc[:, [1,2,3,4,5,6,7,8,9,10,11]].values\n",
    "y = dataset.iloc[:, 12].values"
   ]
  },
  {
   "cell_type": "code",
   "execution_count": 92,
   "metadata": {},
   "outputs": [],
   "source": [
    "#Kelompokan data ke dalam training set dan test set\n",
    "from sklearn.model_selection import train_test_split\n",
    "X_train, X_test, y_train, y_test = train_test_split(X, y, test_size = 0.20, random_state = 0)"
   ]
  },
  {
   "cell_type": "code",
   "execution_count": null,
   "metadata": {},
   "outputs": [],
   "source": []
  },
  {
   "cell_type": "code",
   "execution_count": 93,
   "metadata": {},
   "outputs": [
    {
     "data": {
      "text/plain": [
       "GaussianNB()"
      ]
     },
     "execution_count": 93,
     "metadata": {},
     "output_type": "execute_result"
    }
   ],
   "source": [
    "#Membuat model naive bayes terhadap training test\n",
    "from sklearn.naive_bayes import GaussianNB\n",
    "classifier = GaussianNB()\n",
    "classifier.fit(X_train, y_train)"
   ]
  },
  {
   "cell_type": "code",
   "execution_count": 94,
   "metadata": {},
   "outputs": [
    {
     "data": {
      "text/plain": [
       "array([1, 1, 1, 0, 1, 1, 1, 1, 1, 1, 1, 1, 1, 1, 0, 1, 1, 1, 1, 1, 0, 1,\n",
       "       1, 1, 1, 1, 0, 1, 1, 1, 1, 1, 1, 1, 0], dtype=int64)"
      ]
     },
     "execution_count": 94,
     "metadata": {},
     "output_type": "execute_result"
    }
   ],
   "source": [
    "#prediksi hasil test set\n",
    "y_pred = classifier.predict(X_test)\n",
    "y_pred"
   ]
  },
  {
   "cell_type": "code",
   "execution_count": 95,
   "metadata": {},
   "outputs": [
    {
     "data": {
      "text/plain": [
       "0.7142857142857143"
      ]
     },
     "execution_count": 95,
     "metadata": {},
     "output_type": "execute_result"
    }
   ],
   "source": [
    "#menghitung akurasi\n",
    "from sklearn.metrics import accuracy_score\n",
    "accuracy_score(y_test, y_pred)"
   ]
  },
  {
   "cell_type": "code",
   "execution_count": 96,
   "metadata": {},
   "outputs": [
    {
     "data": {
      "text/plain": [
       "array([[ 2,  7],\n",
       "       [ 3, 23]], dtype=int64)"
      ]
     },
     "execution_count": 96,
     "metadata": {},
     "output_type": "execute_result"
    }
   ],
   "source": [
    "#confusion matriks\n",
    "from sklearn.metrics import confusion_matrix\n",
    "confusion_matrix(y_test, y_pred)"
   ]
  }
 ],
 "metadata": {
  "kernelspec": {
   "display_name": "Python 3",
   "language": "python",
   "name": "python3"
  },
  "language_info": {
   "codemirror_mode": {
    "name": "ipython",
    "version": 3
   },
   "file_extension": ".py",
   "mimetype": "text/x-python",
   "name": "python",
   "nbconvert_exporter": "python",
   "pygments_lexer": "ipython3",
   "version": "3.8.3"
  }
 },
 "nbformat": 4,
 "nbformat_minor": 4
}
